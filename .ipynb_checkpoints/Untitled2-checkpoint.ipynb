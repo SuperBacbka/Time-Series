{
 "cells": [
  {
   "cell_type": "code",
   "execution_count": 1,
   "id": "e596e01d-2ce3-4879-b78c-acabca27303f",
   "metadata": {},
   "outputs": [],
   "source": [
    "import numpy as np\n",
    "import pandas as pd"
   ]
  },
  {
   "cell_type": "code",
   "execution_count": 38,
   "id": "a2fb267a-8f9e-431a-93f6-6bbc5ca8f4cb",
   "metadata": {},
   "outputs": [
    {
     "name": "stdout",
     "output_type": "stream",
     "text": [
      "📊 Метрики качества модели SARIMA:\n",
      "MAE:  5200.16 ₽\n",
      "RMSE: 6244.77 ₽\n",
      "R²:   -2.0423\n"
     ]
    },
    {
     "name": "stderr",
     "output_type": "stream",
     "text": [
      "C:\\Users\\Aadmin\\anaconda3\\Lib\\site-packages\\sklearn\\metrics\\_regression.py:492: FutureWarning: 'squared' is deprecated in version 1.4 and will be removed in 1.6. To calculate the root mean squared error, use the function'root_mean_squared_error'.\n",
      "  warnings.warn(\n"
     ]
    }
   ],
   "source": [
    "import pandas as pd\n",
    "import numpy as np\n",
    "from statsmodels.tsa.statespace.sarimax import SARIMAX\n",
    "from sklearn.metrics import mean_absolute_error, mean_squared_error, r2_score\n",
    "\n",
    "# === ЗАГРУЗКА ДАННЫХ ===\n",
    "df_train = pd.read_excel(\"train.xlsx\", engine=\"openpyxl\")\n",
    "df_test = pd.read_excel(\"test.xlsx\", engine=\"openpyxl\")\n",
    "\n",
    "# === ПОДГОТОВКА ВРЕМЕННОГО РЯДА ===\n",
    "ts = df_train.set_index(\"dt\")[\"Цена на арматуру\"]\n",
    "ts.index = pd.to_datetime(ts.index)\n",
    "ts = ts.asfreq(\"W-MON\")  # Указываем: еженедельные данные (по понедельникам)\n",
    "\n",
    "# === ОБУЧЕНИЕ SARIMA-МОДЕЛИ ===\n",
    "model = SARIMAX(ts,\n",
    "                order=(1, 1, 1),\n",
    "                seasonal_order=(1, 1, 1, 52),\n",
    "                enforce_stationarity=False,\n",
    "                enforce_invertibility=False)\n",
    "\n",
    "sarima_result = model.fit(disp=False)\n",
    "\n",
    "# === ПРОГНОЗ НА ПЕРИОД ТЕСТА ===\n",
    "n_periods = len(df_test)\n",
    "forecast_obj = sarima_result.get_forecast(steps=n_periods)\n",
    "forecast_mean = forecast_obj.predicted_mean\n",
    "\n",
    "# === ПРИВЯЗКА ДАТ И СОПОСТАВЛЕНИЕ С ФАКТОМ ===\n",
    "df_test[\"dt\"] = pd.to_datetime(df_test[\"dt\"])\n",
    "df_test = df_test.set_index(\"dt\")\n",
    "df_test[\"SARIMA_Прогноз\"] = forecast_mean\n",
    "\n",
    "# === ОЦЕНКА КАЧЕСТВА ===\n",
    "y_true = df_test[\"Цена на арматуру\"]\n",
    "y_pred = df_test[\"SARIMA_Прогноз\"]\n",
    "\n",
    "mae = mean_absolute_error(y_true, y_pred)\n",
    "rmse = mean_squared_error(y_true, y_pred, squared=False)\n",
    "r2 = r2_score(y_true, y_pred)\n",
    "\n",
    "# === ВЫВОД РЕЗУЛЬТАТОВ ===\n",
    "print(\"📊 Метрики качества модели SARIMA:\")\n",
    "print(f\"MAE:  {mae:.2f} ₽\")\n",
    "print(f\"RMSE: {rmse:.2f} ₽\")\n",
    "print(f\"R²:   {r2:.4f}\")"
   ]
  },
  {
   "cell_type": "code",
   "execution_count": 30,
   "id": "23f6ce2b-64cd-49b6-82bb-38fb99e850fc",
   "metadata": {},
   "outputs": [],
   "source": []
  },
  {
   "cell_type": "code",
   "execution_count": 32,
   "id": "ccc67151-7bd2-4968-9779-a8d98eabda64",
   "metadata": {},
   "outputs": [],
   "source": []
  },
  {
   "cell_type": "code",
   "execution_count": 34,
   "id": "19cddd2b-c597-4b31-a858-91321fa0f92e",
   "metadata": {},
   "outputs": [
    {
     "data": {
      "text/plain": [
       "(5200.161099904093, 6244.767309466797, -2.042320707093102)"
      ]
     },
     "execution_count": 34,
     "metadata": {},
     "output_type": "execute_result"
    }
   ],
   "source": [
    "mae,rmse,r2"
   ]
  },
  {
   "cell_type": "code",
   "execution_count": 40,
   "id": "5d0e5278-c324-4e34-86f9-ba679228812f",
   "metadata": {},
   "outputs": [
    {
     "name": "stdout",
     "output_type": "stream",
     "text": [
      "📊 Метрики Random Forest:\n",
      "MAE:  1221.16 ₽\n",
      "RMSE: 1655.87 ₽\n",
      "R²:   0.7861\n"
     ]
    },
    {
     "name": "stderr",
     "output_type": "stream",
     "text": [
      "C:\\Users\\Aadmin\\anaconda3\\Lib\\site-packages\\sklearn\\metrics\\_regression.py:492: FutureWarning: 'squared' is deprecated in version 1.4 and will be removed in 1.6. To calculate the root mean squared error, use the function'root_mean_squared_error'.\n",
      "  warnings.warn(\n"
     ]
    }
   ],
   "source": [
    "import pandas as pd\n",
    "import numpy as np\n",
    "from sklearn.ensemble import RandomForestRegressor\n",
    "from sklearn.preprocessing import StandardScaler\n",
    "from sklearn.metrics import mean_absolute_error, mean_squared_error, r2_score\n",
    "\n",
    "# === ЗАГРУЗКА ДАННЫХ ===\n",
    "df_train = pd.read_excel(\"train.xlsx\", engine=\"openpyxl\")\n",
    "df_test = pd.read_excel(\"test.xlsx\", engine=\"openpyxl\")\n",
    "\n",
    "# === ОБЪЕДИНЕНИЕ ДЛЯ ГЕНЕРАЦИИ ПРИЗНАКОВ ===\n",
    "df_train[\"is_train\"] = 1\n",
    "df_test[\"is_train\"] = 0\n",
    "df_all = pd.concat([df_train, df_test], ignore_index=True)\n",
    "df_all[\"dt\"] = pd.to_datetime(df_all[\"dt\"])\n",
    "df_all = df_all.sort_values(\"dt\")\n",
    "\n",
    "# === ВРЕМЕННЫЕ ПРИЗНАКИ ===\n",
    "df_all[\"week\"] = df_all[\"dt\"].dt.isocalendar().week\n",
    "df_all[\"month\"] = df_all[\"dt\"].dt.month\n",
    "df_all[\"quarter\"] = df_all[\"dt\"].dt.quarter\n",
    "df_all[\"year\"] = df_all[\"dt\"].dt.year\n",
    "\n",
    "# === ЛАГИ И СКОЛЬЗЯЩИЕ СРЕДНИЕ ===\n",
    "for lag in [1, 2, 4, 12]:\n",
    "    df_all[f\"lag_{lag}\"] = df_all[\"Цена на арматуру\"].shift(lag)\n",
    "    df_all[f\"rolling_mean_{lag}\"] = df_all[\"Цена на арматуру\"].shift(1).rolling(window=lag).mean()\n",
    "\n",
    "# === УДАЛЕНИЕ NAN ===\n",
    "df_all = df_all.dropna().reset_index(drop=True)\n",
    "\n",
    "# === РАЗДЕЛЕНИЕ ОБРАТНО ===\n",
    "df_train_feat = df_all[df_all[\"is_train\"] == 1].copy()\n",
    "df_test_feat = df_all[df_all[\"is_train\"] == 0].copy()\n",
    "\n",
    "# === ПРИЗНАКИ И ЦЕЛЬ ===\n",
    "features = [col for col in df_train_feat.columns if col not in [\"dt\", \"Цена на арматуру\", \"is_train\"]]\n",
    "target = \"Цена на арматуру\"\n",
    "X_train = df_train_feat[features]\n",
    "y_train = df_train_feat[target]\n",
    "X_test = df_test_feat[features]\n",
    "\n",
    "# === МАСШТАБИРОВАНИЕ ===\n",
    "scaler = StandardScaler()\n",
    "X_train_scaled = scaler.fit_transform(X_train)\n",
    "X_test_scaled = scaler.transform(X_test)\n",
    "\n",
    "# === ОБУЧЕНИЕ МОДЕЛИ ===\n",
    "model = RandomForestRegressor(n_estimators=100, max_depth=10, random_state=42)\n",
    "model.fit(X_train_scaled, y_train)\n",
    "\n",
    "# === ПРОГНОЗ ===\n",
    "predictions = model.predict(X_test_scaled)\n",
    "\n",
    "# === СОХРАНЕНИЕ И ОЦЕНКА ===\n",
    "df_test_feat[\"RF_Прогноз\"] = predictions\n",
    "df_test_feat = df_test_feat.set_index(\"dt\")\n",
    "\n",
    "y_true = df_test_feat[\"Цена на арматуру\"]\n",
    "y_pred = df_test_feat[\"RF_Прогноз\"]\n",
    "\n",
    "mae = mean_absolute_error(y_true, y_pred)\n",
    "rmse = mean_squared_error(y_true, y_pred, squared=False)\n",
    "r2 = r2_score(y_true, y_pred)\n",
    "\n",
    "# === ВЫВОД ===\n",
    "print(\"📊 Метрики Random Forest:\")\n",
    "print(f\"MAE:  {mae:.2f} ₽\")\n",
    "print(f\"RMSE: {rmse:.2f} ₽\")\n",
    "print(f\"R²:   {r2:.4f}\")\n"
   ]
  },
  {
   "cell_type": "code",
   "execution_count": null,
   "id": "9d9f5245-b8e1-40dd-aee0-6b2d4eeeeb49",
   "metadata": {},
   "outputs": [],
   "source": []
  }
 ],
 "metadata": {
  "kernelspec": {
   "display_name": "Python [conda env:base] *",
   "language": "python",
   "name": "conda-base-py"
  },
  "language_info": {
   "codemirror_mode": {
    "name": "ipython",
    "version": 3
   },
   "file_extension": ".py",
   "mimetype": "text/x-python",
   "name": "python",
   "nbconvert_exporter": "python",
   "pygments_lexer": "ipython3",
   "version": "3.12.7"
  }
 },
 "nbformat": 4,
 "nbformat_minor": 5
}
