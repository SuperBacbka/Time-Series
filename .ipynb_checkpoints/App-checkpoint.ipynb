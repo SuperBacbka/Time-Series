{
 "cells": [
  {
   "cell_type": "raw",
   "id": "5eaf52bf-5b80-4410-8c6e-8df0e1ebc257",
   "metadata": {},
   "source": [
    "для создания приложения мы будим использовать Fraimwork Streamlit\n",
    "Приложение будим создавать в Pycharm но поянения пишем в jupiter\n",
    "\n",
    "\n",
    "\n",
    "\n",
    "Наша Приложение имеет слудующие функции и возможности\n",
    "    -Загрузка данных( для предоставление новых данных модели)\n",
    "    -"
   ]
  },
  {
   "cell_type": "code",
   "execution_count": 1,
   "id": "484b9fc1-49d9-4392-8fad-918b6af86fe2",
   "metadata": {},
   "outputs": [],
   "source": [
    "### Загрузим соответвующие Библеотеки \n",
    "import streamlit as st\n",
    "import pandas as pd\n",
    "import numpy as np\n",
    "import joblib"
   ]
  },
  {
   "cell_type": "code",
   "execution_count": 3,
   "id": "cd83071f-7cac-404b-94b3-bf4ca487780c",
   "metadata": {},
   "outputs": [
    {
     "name": "stderr",
     "output_type": "stream",
     "text": [
      "2025-03-26 21:50:12.283 \n",
      "  \u001b[33m\u001b[1mWarning:\u001b[0m to view this Streamlit app on a browser, run it with the following\n",
      "  command:\n",
      "\n",
      "    streamlit run C:\\Users\\Aadmin\\anaconda3\\Lib\\site-packages\\ipykernel_launcher.py [ARGUMENTS]\n"
     ]
    },
    {
     "data": {
      "text/plain": [
       "DeltaGenerator()"
      ]
     },
     "execution_count": 3,
     "metadata": {},
     "output_type": "execute_result"
    }
   ],
   "source": [
    "# Определим Заголовок для Приложения\n",
    "st.set_page_config(page_title=\"Прогноз цен на арматуру\", layout=\"wide\")\n",
    "st.title(\" Прогноз цен на арматуру для менеджера\")"
   ]
  },
  {
   "cell_type": "raw",
   "id": "0d38faaf-841d-412a-b8fd-1790abd135b2",
   "metadata": {},
   "source": [
    "Напишим функцию для Загрузки Модели \n"
   ]
  },
  {
   "cell_type": "code",
   "execution_count": 5,
   "id": "92e2206f-a534-475a-8e5a-be76bac03c08",
   "metadata": {},
   "outputs": [],
   "source": [
    "### Воспользуемся Дикоратором @st \n",
    "@st.cache_resource\n",
    "def load_model():\n",
    "    model = joblib.load(\"model.pkl\")\n",
    "    scaler = joblib.load(\"scaler.pkl\")\n",
    "    return model, scaler\n"
   ]
  },
  {
   "cell_type": "raw",
   "id": "7cf4846d-b05e-43c2-b720-b4335f9b6418",
   "metadata": {},
   "source": [
    "Так же напишем функцию для загрузки новых данных "
   ]
  },
  {
   "cell_type": "code",
   "execution_count": null,
   "id": "43a57c98-0246-427b-83b5-b9279a4c1926",
   "metadata": {},
   "outputs": [],
   "source": [
    "@st.cache_data\n",
    "def load_data():\n",
    "    return pd.read_excel(\"Data.xlsx\", engine=\"openpyxl\")"
   ]
  },
  {
   "cell_type": "raw",
   "id": "1795e4b8-0b3d-4d63-a94e-b34a95acda49",
   "metadata": {},
   "source": [
    "Функция для обработки данных "
   ]
  }
 ],
 "metadata": {
  "kernelspec": {
   "display_name": "Python [conda env:base] *",
   "language": "python",
   "name": "conda-base-py"
  },
  "language_info": {
   "codemirror_mode": {
    "name": "ipython",
    "version": 3
   },
   "file_extension": ".py",
   "mimetype": "text/x-python",
   "name": "python",
   "nbconvert_exporter": "python",
   "pygments_lexer": "ipython3",
   "version": "3.12.7"
  }
 },
 "nbformat": 4,
 "nbformat_minor": 5
}
